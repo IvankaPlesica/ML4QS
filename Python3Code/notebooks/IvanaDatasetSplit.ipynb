{
 "cells": [
  {
   "cell_type": "markdown",
   "id": "4aff398f",
   "metadata": {},
   "source": [
    "Random forest"
   ]
  },
  {
   "cell_type": "code",
   "execution_count": null,
   "id": "504573c6",
   "metadata": {},
   "outputs": [],
   "source": [
    "from sklearn.model_selection import train_test_split\n",
    "\n",
    "# Drop null values first\n",
    "df = df.dropna()\n",
    "\n",
    "X = df.drop(columns=['activity'])\n",
    "y = df['activity']\n",
    "\n",
    "# Stratified random split\n",
    "X_train, X_test, y_train, y_test = train_test_split(\n",
    "    X, y, test_size=0.2, stratify=y, random_state=42\n",
    ")"
   ]
  },
  {
   "cell_type": "markdown",
   "id": "28c93ca0",
   "metadata": {},
   "source": [
    "Time-ordered split (good for RNN or time series models)"
   ]
  },
  {
   "cell_type": "code",
   "execution_count": null,
   "id": "926c8737",
   "metadata": {},
   "outputs": [],
   "source": [
    "# Make sure your DataFrame index is timestamp sorted\n",
    "df = df.sort_index()\n",
    "\n",
    "# Drop null values\n",
    "df = df.dropna()\n",
    "\n",
    "X = df.drop(columns=['activity'])\n",
    "y = df['activity']\n",
    "\n",
    "# Time-based split (first 80% train, last 20% test)\n",
    "split_idx = int(0.8 * len(df))\n",
    "X_train = X.iloc[:split_idx]\n",
    "X_test = X.iloc[split_idx:]\n",
    "y_train = y.iloc[:split_idx]\n",
    "y_test = y.iloc[split_idx:]\n"
   ]
  }
 ],
 "metadata": {
  "kernelspec": {
   "display_name": "Python 3",
   "language": "python",
   "name": "python3"
  },
  "language_info": {
   "codemirror_mode": {
    "name": "ipython",
    "version": 3
   },
   "file_extension": ".py",
   "mimetype": "text/x-python",
   "name": "python",
   "nbconvert_exporter": "python",
   "pygments_lexer": "ipython3",
   "version": "3.9.6"
  }
 },
 "nbformat": 4,
 "nbformat_minor": 5
}
